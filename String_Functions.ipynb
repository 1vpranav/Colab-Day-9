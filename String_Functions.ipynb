{
  "nbformat": 4,
  "nbformat_minor": 0,
  "metadata": {
    "colab": {
      "name": "String Functions.ipynb",
      "version": "0.3.2",
      "provenance": [],
      "collapsed_sections": [],
      "include_colab_link": true
    },
    "kernelspec": {
      "name": "python3",
      "display_name": "Python 3"
    }
  },
  "cells": [
    {
      "cell_type": "markdown",
      "metadata": {
        "id": "view-in-github",
        "colab_type": "text"
      },
      "source": [
        "<a href=\"https://colab.research.google.com/github/1vpranav/Colab-Day-9/blob/master/String_Functions.ipynb\" target=\"_parent\"><img src=\"https://colab.research.google.com/assets/colab-badge.svg\" alt=\"Open In Colab\"/></a>"
      ]
    },
    {
      "cell_type": "markdown",
      "metadata": {
        "id": "O5FDey06oiGe",
        "colab_type": "text"
      },
      "source": [
        "STRING FUNCTIONS\n",
        "\n",
        "*  upper() -- Will convert the given string into upper case\n",
        "*   lower() -- Will convert the given string into lower case\n",
        "\n"
      ]
    },
    {
      "cell_type": "code",
      "metadata": {
        "id": "pvmQCyCbppKB",
        "colab_type": "code",
        "colab": {
          "base_uri": "https://localhost:8080/",
          "height": 51
        },
        "outputId": "52a1c866-b8fd-4a8c-d805-27eeb3e13147"
      },
      "source": [
        "s1 = 'Gitam'\n",
        "print(s1.upper())\n",
        "print(s1.lower())"
      ],
      "execution_count": 2,
      "outputs": [
        {
          "output_type": "stream",
          "text": [
            "GITAM\n",
            "gitam\n"
          ],
          "name": "stdout"
        }
      ]
    },
    {
      "cell_type": "markdown",
      "metadata": {
        "id": "qSxUwmXLpMI6",
        "colab_type": "text"
      },
      "source": [
        "Boolean Function (True and False)\n",
        "\n",
        "*   islower() -- True if the string is lower case/ False if the string not in upper case\n",
        "*   isupper() -- True if string in upper case/ False if string not in lower case\n",
        "*   \n",
        "* \n",
        "\n",
        "\n",
        "\n"
      ]
    },
    {
      "cell_type": "code",
      "metadata": {
        "id": "EJX2ydzRpqKq",
        "colab_type": "code",
        "colab": {
          "base_uri": "https://localhost:8080/",
          "height": 51
        },
        "outputId": "c1b71d05-da7b-418d-bd8a-98cd3952e6f9"
      },
      "source": [
        "s1 = 'GITAM'\n",
        "print(s1.islower())\n",
        "print(s1.isupper())"
      ],
      "execution_count": 3,
      "outputs": [
        {
          "output_type": "stream",
          "text": [
            "False\n",
            "True\n"
          ],
          "name": "stdout"
        }
      ]
    },
    {
      "cell_type": "code",
      "metadata": {
        "id": "Low_YTKBqWZJ",
        "colab_type": "code",
        "colab": {
          "base_uri": "https://localhost:8080/",
          "height": 51
        },
        "outputId": "a03bd35a-24de-44ed-e111-f17d909abb00"
      },
      "source": [
        "s2 = \"Python Programming\"\n",
        "s3 = \"Python programming\"\n",
        "print(s2.istitle())\n",
        "print(s3.istitle())"
      ],
      "execution_count": 6,
      "outputs": [
        {
          "output_type": "stream",
          "text": [
            "True\n",
            "False\n"
          ],
          "name": "stdout"
        }
      ]
    },
    {
      "cell_type": "code",
      "metadata": {
        "id": "9DB43NSQq3sR",
        "colab_type": "code",
        "colab": {
          "base_uri": "https://localhost:8080/",
          "height": 51
        },
        "outputId": "d316dc05-efd2-4b6f-8953-c4504dc08f6c"
      },
      "source": [
        "s2 = \"Application1889\"\n",
        "s3 = 'PythonProgramming'\n",
        "print(s2.isalpha())\n",
        "print(s3.isalpha())"
      ],
      "execution_count": 8,
      "outputs": [
        {
          "output_type": "stream",
          "text": [
            "False\n",
            "True\n"
          ],
          "name": "stdout"
        }
      ]
    },
    {
      "cell_type": "code",
      "metadata": {
        "id": "VyG7cT7JtUbr",
        "colab_type": "code",
        "colab": {
          "base_uri": "https://localhost:8080/",
          "height": 51
        },
        "outputId": "7f232fd9-3dc9-4106-d47a-c6e44272792a"
      },
      "source": [
        "s1 = \"1234\"\n",
        "s2 = \"Application1234\"\n",
        "print(s1.isnumeric())\n",
        "print(s2.isnumeric())"
      ],
      "execution_count": 9,
      "outputs": [
        {
          "output_type": "stream",
          "text": [
            "True\n",
            "False\n"
          ],
          "name": "stdout"
        }
      ]
    },
    {
      "cell_type": "code",
      "metadata": {
        "id": "5R3c5tzotVYY",
        "colab_type": "code",
        "colab": {
          "base_uri": "https://localhost:8080/",
          "height": 51
        },
        "outputId": "0e4b1954-cdca-41a9-c55a-797777a32000"
      },
      "source": [
        "s1 = \" \"\n",
        "s2 = \"Py th on\"\n",
        "print(s1.isspace())\n",
        "print(s2.isspace())"
      ],
      "execution_count": 10,
      "outputs": [
        {
          "output_type": "stream",
          "text": [
            "True\n",
            "False\n"
          ],
          "name": "stdout"
        }
      ]
    },
    {
      "cell_type": "markdown",
      "metadata": {
        "id": "ZkBmZwKVt9fT",
        "colab_type": "text"
      },
      "source": [
        "**String methods**\n",
        "\n",
        "1.   join() -- Method will concatinate the two strings\n",
        "2.   split() -- split() return a list of strings separated by whitespace(no parameters are given)\n",
        "\n"
      ]
    },
    {
      "cell_type": "code",
      "metadata": {
        "id": "Nf7-Gh2xuLPK",
        "colab_type": "code",
        "colab": {
          "base_uri": "https://localhost:8080/",
          "height": 34
        },
        "outputId": "9aa3d919-e908-4c41-f732-2c015deb8a79"
      },
      "source": [
        "s1 = 'Python'\n",
        "print(\" \".join(s1))"
      ],
      "execution_count": 11,
      "outputs": [
        {
          "output_type": "stream",
          "text": [
            "P y t h o n\n"
          ],
          "name": "stdout"
        }
      ]
    },
    {
      "cell_type": "code",
      "metadata": {
        "id": "TZuyq1CEuSRi",
        "colab_type": "code",
        "colab": {
          "base_uri": "https://localhost:8080/",
          "height": 34
        },
        "outputId": "d34d2d46-2ac8-46a0-95e0-413bfd6613c0"
      },
      "source": [
        "s2 = \"Python Programming Easy to learn\"\n",
        "print(\",\".join(s2))"
      ],
      "execution_count": 12,
      "outputs": [
        {
          "output_type": "stream",
          "text": [
            "P,y,t,h,o,n, ,P,r,o,g,r,a,m,m,i,n,g, ,E,a,s,y, ,t,o, ,l,e,a,r,n\n"
          ],
          "name": "stdout"
        }
      ]
    },
    {
      "cell_type": "code",
      "metadata": {
        "id": "kb0z3XL_uehf",
        "colab_type": "code",
        "colab": {
          "base_uri": "https://localhost:8080/",
          "height": 34
        },
        "outputId": "bf6cbb98-52d7-4e32-c692-df556567d211"
      },
      "source": [
        "li = ['Python','Programming','Learn']\n",
        "print(\",\".join(li))"
      ],
      "execution_count": 13,
      "outputs": [
        {
          "output_type": "stream",
          "text": [
            "Python,Programming,Learn\n"
          ],
          "name": "stdout"
        }
      ]
    },
    {
      "cell_type": "code",
      "metadata": {
        "id": "XDUXwy79vipI",
        "colab_type": "code",
        "colab": {
          "base_uri": "https://localhost:8080/",
          "height": 34
        },
        "outputId": "49799673-5ab1-4b39-8b84-808bca628b27"
      },
      "source": [
        "s2 = \"Python Programming Easy to learn\"\n",
        "print(s2.split())"
      ],
      "execution_count": 14,
      "outputs": [
        {
          "output_type": "stream",
          "text": [
            "['Python', 'Programming', 'Easy', 'to', 'learn']\n"
          ],
          "name": "stdout"
        }
      ]
    },
    {
      "cell_type": "code",
      "metadata": {
        "id": "apfGRe9uwqod",
        "colab_type": "code",
        "colab": {
          "base_uri": "https://localhost:8080/",
          "height": 34
        },
        "outputId": "706c9ace-c46c-407b-a33f-ab5506185432"
      },
      "source": [
        "s1 = \"Python Programming Easy to learn\"\n",
        "print(s1.split('a'))"
      ],
      "execution_count": 15,
      "outputs": [
        {
          "output_type": "stream",
          "text": [
            "['Python Progr', 'mming E', 'sy to le', 'rn']\n"
          ],
          "name": "stdout"
        }
      ]
    },
    {
      "cell_type": "code",
      "metadata": {
        "id": "BxGSWVzhw3xm",
        "colab_type": "code",
        "colab": {
          "base_uri": "https://localhost:8080/",
          "height": 51
        },
        "outputId": "e468da91-cc62-487d-e19c-f42dc2f6e608"
      },
      "source": [
        "s2 = \"Python Programming Easy to learn\"\n",
        "li = s2.split() # Split the string - - list object\n",
        "print(li)\n",
        "print(len(li))"
      ],
      "execution_count": 16,
      "outputs": [
        {
          "output_type": "stream",
          "text": [
            "['Python', 'Programming', 'Easy', 'to', 'learn']\n",
            "5\n"
          ],
          "name": "stdout"
        }
      ]
    },
    {
      "cell_type": "code",
      "metadata": {
        "id": "c0u4tVyExI10",
        "colab_type": "code",
        "colab": {
          "base_uri": "https://localhost:8080/",
          "height": 54
        },
        "outputId": "d6b0363f-071e-41b5-f10c-1ad887ad43a2"
      },
      "source": [
        "s2 = \"Python Programming Easy to learn\"\n",
        "li = list(s2)\n",
        "print(li)"
      ],
      "execution_count": 17,
      "outputs": [
        {
          "output_type": "stream",
          "text": [
            "['P', 'y', 't', 'h', 'o', 'n', ' ', 'P', 'r', 'o', 'g', 'r', 'a', 'm', 'm', 'i', 'n', 'g', ' ', 'E', 'a', 's', 'y', ' ', 't', 'o', ' ', 'l', 'e', 'a', 'r', 'n']\n"
          ],
          "name": "stdout"
        }
      ]
    },
    {
      "cell_type": "code",
      "metadata": {
        "id": "fiWO-sLIxVDP",
        "colab_type": "code",
        "colab": {}
      },
      "source": [
        ""
      ],
      "execution_count": 0,
      "outputs": []
    }
  ]
}